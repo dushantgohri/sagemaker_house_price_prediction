{
 "cells": [
  {
   "cell_type": "markdown",
   "metadata": {},
   "source": [
    "# Import Required Libraries\n",
    "Import the necessary libraries, including snowflake.connector and pandas."
   ]
  },
  {
   "cell_type": "code",
   "execution_count": 1,
   "metadata": {},
   "outputs": [],
   "source": [
    "# Import the necessary libraries\n",
    "import snowflake.connector\n",
    "import pandas as pd"
   ]
  },
  {
   "cell_type": "markdown",
   "metadata": {},
   "source": [
    "# Establish Connection to Snowflake\n",
    "Establish a connection to Snowflake using the snowflake.connector.connect() method."
   ]
  },
  {
   "cell_type": "code",
   "execution_count": 2,
   "metadata": {},
   "outputs": [
    {
     "name": "stdout",
     "output_type": "stream",
     "text": [
      "Snowflake version: 9.3.3\n"
     ]
    },
    {
     "data": {
      "text/plain": [
       "True"
      ]
     },
     "execution_count": 2,
     "metadata": {},
     "output_type": "execute_result"
    }
   ],
   "source": [
    "# Establish Connection to Snowflake\n",
    "\n",
    "# Define connection parameters\n",
    "conn_params = {\n",
    "    \"user\": \"dushantgohri\",\n",
    "    \"password\": \"Dg@17343857148\",\n",
    "    \"account\": \"pwizmma-ka25931\",\n",
    "    \"warehouse\": \"compute_wh\",\n",
    "    \"database\": \"test_datawarehouse\",\n",
    "    \"schema\": \"public\"\n",
    "}\n",
    "\n",
    "# Establish a connection to Snowflake\n",
    "conn = snowflake.connector.connect(**conn_params)\n",
    "\n",
    "# Verify the connection by fetching the current version of Snowflake\n",
    "cursor = conn.cursor()\n",
    "cursor.execute(\"SELECT current_version()\")\n",
    "version = cursor.fetchone()\n",
    "print(f\"Snowflake version: {version[0]}\")\n",
    "\n",
    "# Close the cursor\n",
    "cursor.close()"
   ]
  },
  {
   "cell_type": "markdown",
   "metadata": {},
   "source": [
    "# Create Tables if Not Exists\n",
    "Use SQL commands to create tables in Snowflake if they do not already exist."
   ]
  },
  {
   "cell_type": "code",
   "execution_count": 3,
   "metadata": {},
   "outputs": [
    {
     "data": {
      "text/plain": [
       "True"
      ]
     },
     "execution_count": 3,
     "metadata": {},
     "output_type": "execute_result"
    }
   ],
   "source": [
    "# Create Tables if Not Exists\n",
    "\n",
    "# Create a cursor object\n",
    "cursor = conn.cursor()\n",
    "\n",
    "# SQL command to create a table if it does not exist\n",
    "create_train_table_query = \"\"\"\n",
    "CREATE TABLE IF NOT EXISTS train_table (\n",
    "    id INT AUTOINCREMENT,\n",
    "    feature1 STRING,\n",
    "    feature2 STRING,\n",
    "    target FLOAT,\n",
    "    PRIMARY KEY (id)\n",
    ")\n",
    "\"\"\"\n",
    "\n",
    "create_test_table_query = \"\"\"\n",
    "CREATE TABLE IF NOT EXISTS test_table (\n",
    "    id INT AUTOINCREMENT,\n",
    "    feature1 STRING,\n",
    "    feature2 STRING,\n",
    "    target FLOAT,\n",
    "    PRIMARY KEY (id)\n",
    ")\n",
    "\"\"\"\n",
    "\n",
    "# Execute the SQL commands\n",
    "cursor.execute(create_train_table_query)\n",
    "cursor.execute(create_test_table_query)\n",
    "\n",
    "# Commit the transaction\n",
    "conn.commit()\n",
    "\n",
    "# Close the cursor\n",
    "cursor.close()"
   ]
  },
  {
   "cell_type": "markdown",
   "metadata": {},
   "source": [
    "# Insert Data into Tables\n",
    "Use SQL INSERT commands to insert data into the Snowflake tables."
   ]
  },
  {
   "cell_type": "code",
   "execution_count": 4,
   "metadata": {},
   "outputs": [
    {
     "data": {
      "text/plain": [
       "True"
      ]
     },
     "execution_count": 4,
     "metadata": {},
     "output_type": "execute_result"
    }
   ],
   "source": [
    "# Insert Data into Tables\n",
    "\n",
    "# Create a cursor object\n",
    "cursor = conn.cursor()\n",
    "\n",
    "# Sample data to insert into train_table\n",
    "train_data = [\n",
    "    (1, 'feature1_value1', 'feature2_value1', 0.5),\n",
    "    (2, 'feature1_value2', 'feature2_value2', 1.5)\n",
    "]\n",
    "\n",
    "# Sample data to insert into test_table\n",
    "test_data = [\n",
    "    (1, 'feature1_value1', 'feature2_value1', 0.7),\n",
    "    (2, 'feature1_value2', 'feature2_value2', 1.7)\n",
    "]\n",
    "\n",
    "# SQL command to insert data into train_table\n",
    "insert_train_query = \"\"\"\n",
    "INSERT INTO train_table (id, feature1, feature2, target)\n",
    "VALUES (%s, %s, %s, %s)\n",
    "\"\"\"\n",
    "\n",
    "# SQL command to insert data into test_table\n",
    "insert_test_query = \"\"\"\n",
    "INSERT INTO test_table (id, feature1, feature2, target)\n",
    "VALUES (%s, %s, %s, %s)\n",
    "\"\"\"\n",
    "\n",
    "# Insert data into train_table\n",
    "cursor.executemany(insert_train_query, train_data)\n",
    "\n",
    "# Insert data into test_table\n",
    "cursor.executemany(insert_test_query, test_data)\n",
    "\n",
    "# Commit the transaction\n",
    "conn.commit()\n",
    "\n",
    "# Close the cursor\n",
    "cursor.close()"
   ]
  },
  {
   "cell_type": "markdown",
   "metadata": {},
   "source": [
    "# Copy Data into Tables\n",
    "Use the COPY INTO command to copy data from a file into the Snowflake tables."
   ]
  },
  {
   "cell_type": "code",
   "execution_count": 5,
   "metadata": {},
   "outputs": [
    {
     "data": {
      "text/plain": [
       "True"
      ]
     },
     "execution_count": 5,
     "metadata": {},
     "output_type": "execute_result"
    }
   ],
   "source": [
    "# Copy Data into Tables\n",
    "\n",
    "# Create a cursor object\n",
    "cursor = conn.cursor()\n",
    "\n",
    "# SQL command to copy data from a file into train_table\n",
    "copy_train_query = \"\"\"\n",
    "COPY INTO train_table\n",
    "FROM @%train_table\n",
    "FILE_FORMAT = (TYPE = CSV FIELD_OPTIONALLY_ENCLOSED_BY = '\"')\n",
    "\"\"\"\n",
    "\n",
    "# SQL command to copy data from a file into test_table\n",
    "copy_test_query = \"\"\"\n",
    "COPY INTO test_table\n",
    "FROM @%test_table\n",
    "FILE_FORMAT = (TYPE = CSV FIELD_OPTIONALLY_ENCLOSED_BY = '\"')\n",
    "\"\"\"\n",
    "\n",
    "# Execute the SQL commands\n",
    "cursor.execute(copy_train_query)\n",
    "cursor.execute(copy_test_query)\n",
    "\n",
    "# Commit the transaction\n",
    "conn.commit()\n",
    "\n",
    "# Close the cursor\n",
    "cursor.close()"
   ]
  },
  {
   "cell_type": "markdown",
   "metadata": {},
   "source": [
    "# Fetch Data from Tables\n",
    "Use SQL SELECT commands to fetch data from the Snowflake tables and load it into a pandas DataFrame."
   ]
  },
  {
   "cell_type": "code",
   "execution_count": 4,
   "metadata": {},
   "outputs": [
    {
     "name": "stderr",
     "output_type": "stream",
     "text": [
      "/tmp/ipykernel_6580/555868804.py:10: UserWarning: pandas only supports SQLAlchemy connectable (engine/connection) or database string URI or sqlite3 DBAPI2 connection. Other DBAPI2 objects are not tested. Please consider using SQLAlchemy.\n",
      "  train_data = pd.read_sql(fetch_train_query, conn)\n"
     ]
    },
    {
     "name": "stdout",
     "output_type": "stream",
     "text": [
      "Train Data:\n",
      "      PRICE  AREA  BEDROOMS  BATHROOMS  STORIES  MAINROAD  GUESTROOM  \\\n",
      "0  13300000  7420         4          2        3      True      False   \n",
      "1  12250000  8960         4          4        4      True      False   \n",
      "2  12250000  9960         3          2        2      True      False   \n",
      "3  12215000  7500         4          2        2      True      False   \n",
      "4  11410000  7420         4          1        2      True       True   \n",
      "\n",
      "   BASEMENT  HOTWATERHEATING  AIRCONDITIONING  PARKING  PREFAREA  \\\n",
      "0     False            False             True        2      True   \n",
      "1     False            False             True        3     False   \n",
      "2      True            False            False        2      True   \n",
      "3      True            False             True        3      True   \n",
      "4      True            False             True        2     False   \n",
      "\n",
      "  FURNISHINGSTATUS  \n",
      "0        furnished  \n",
      "1        furnished  \n",
      "2   semi-furnished  \n",
      "3        furnished  \n",
      "4        furnished  \n"
     ]
    }
   ],
   "source": [
    "# Fetch Data from Tables\n",
    "\n",
    "# Create a cursor object\n",
    "cursor = conn.cursor()\n",
    "\n",
    "# SQL command to fetch data from train_table\n",
    "fetch_train_query = \"SELECT * FROM DA_DS_HOUSING_V2\"\n",
    "\n",
    "# Execute the SQL command and load the data into a pandas DataFrame\n",
    "train_data = pd.read_sql(fetch_train_query, conn)\n",
    "print(\"Train Data:\")\n",
    "print(train_data.head())\n",
    "\n",
    "# Save the train data in S3, for pipeline to be picked the data\n",
    "\n",
    "train_data.to_csv('s3://sagemaker-us-east-1-237682134737/input_data/housing_data_v2.csv')"
   ]
  },
  {
   "cell_type": "code",
   "execution_count": 5,
   "metadata": {},
   "outputs": [
    {
     "data": {
      "text/html": [
       "<div>\n",
       "<style scoped>\n",
       "    .dataframe tbody tr th:only-of-type {\n",
       "        vertical-align: middle;\n",
       "    }\n",
       "\n",
       "    .dataframe tbody tr th {\n",
       "        vertical-align: top;\n",
       "    }\n",
       "\n",
       "    .dataframe thead th {\n",
       "        text-align: right;\n",
       "    }\n",
       "</style>\n",
       "<table border=\"1\" class=\"dataframe\">\n",
       "  <thead>\n",
       "    <tr style=\"text-align: right;\">\n",
       "      <th></th>\n",
       "      <th>Unnamed: 0</th>\n",
       "      <th>PRICE</th>\n",
       "      <th>AREA</th>\n",
       "      <th>BEDROOMS</th>\n",
       "      <th>BATHROOMS</th>\n",
       "      <th>STORIES</th>\n",
       "      <th>MAINROAD</th>\n",
       "      <th>GUESTROOM</th>\n",
       "      <th>BASEMENT</th>\n",
       "      <th>HOTWATERHEATING</th>\n",
       "      <th>AIRCONDITIONING</th>\n",
       "      <th>PARKING</th>\n",
       "      <th>PREFAREA</th>\n",
       "      <th>FURNISHINGSTATUS</th>\n",
       "    </tr>\n",
       "  </thead>\n",
       "  <tbody>\n",
       "    <tr>\n",
       "      <th>0</th>\n",
       "      <td>0</td>\n",
       "      <td>13300000</td>\n",
       "      <td>7420</td>\n",
       "      <td>4</td>\n",
       "      <td>2</td>\n",
       "      <td>3</td>\n",
       "      <td>True</td>\n",
       "      <td>False</td>\n",
       "      <td>False</td>\n",
       "      <td>False</td>\n",
       "      <td>True</td>\n",
       "      <td>2</td>\n",
       "      <td>True</td>\n",
       "      <td>furnished</td>\n",
       "    </tr>\n",
       "    <tr>\n",
       "      <th>1</th>\n",
       "      <td>1</td>\n",
       "      <td>12250000</td>\n",
       "      <td>8960</td>\n",
       "      <td>4</td>\n",
       "      <td>4</td>\n",
       "      <td>4</td>\n",
       "      <td>True</td>\n",
       "      <td>False</td>\n",
       "      <td>False</td>\n",
       "      <td>False</td>\n",
       "      <td>True</td>\n",
       "      <td>3</td>\n",
       "      <td>False</td>\n",
       "      <td>furnished</td>\n",
       "    </tr>\n",
       "    <tr>\n",
       "      <th>2</th>\n",
       "      <td>2</td>\n",
       "      <td>12250000</td>\n",
       "      <td>9960</td>\n",
       "      <td>3</td>\n",
       "      <td>2</td>\n",
       "      <td>2</td>\n",
       "      <td>True</td>\n",
       "      <td>False</td>\n",
       "      <td>True</td>\n",
       "      <td>False</td>\n",
       "      <td>False</td>\n",
       "      <td>2</td>\n",
       "      <td>True</td>\n",
       "      <td>semi-furnished</td>\n",
       "    </tr>\n",
       "    <tr>\n",
       "      <th>3</th>\n",
       "      <td>3</td>\n",
       "      <td>12215000</td>\n",
       "      <td>7500</td>\n",
       "      <td>4</td>\n",
       "      <td>2</td>\n",
       "      <td>2</td>\n",
       "      <td>True</td>\n",
       "      <td>False</td>\n",
       "      <td>True</td>\n",
       "      <td>False</td>\n",
       "      <td>True</td>\n",
       "      <td>3</td>\n",
       "      <td>True</td>\n",
       "      <td>furnished</td>\n",
       "    </tr>\n",
       "    <tr>\n",
       "      <th>4</th>\n",
       "      <td>4</td>\n",
       "      <td>11410000</td>\n",
       "      <td>7420</td>\n",
       "      <td>4</td>\n",
       "      <td>1</td>\n",
       "      <td>2</td>\n",
       "      <td>True</td>\n",
       "      <td>True</td>\n",
       "      <td>True</td>\n",
       "      <td>False</td>\n",
       "      <td>True</td>\n",
       "      <td>2</td>\n",
       "      <td>False</td>\n",
       "      <td>furnished</td>\n",
       "    </tr>\n",
       "  </tbody>\n",
       "</table>\n",
       "</div>"
      ],
      "text/plain": [
       "   Unnamed: 0     PRICE  AREA  BEDROOMS  BATHROOMS  STORIES  MAINROAD  \\\n",
       "0           0  13300000  7420         4          2        3      True   \n",
       "1           1  12250000  8960         4          4        4      True   \n",
       "2           2  12250000  9960         3          2        2      True   \n",
       "3           3  12215000  7500         4          2        2      True   \n",
       "4           4  11410000  7420         4          1        2      True   \n",
       "\n",
       "   GUESTROOM  BASEMENT  HOTWATERHEATING  AIRCONDITIONING  PARKING  PREFAREA  \\\n",
       "0      False     False            False             True        2      True   \n",
       "1      False     False            False             True        3     False   \n",
       "2      False      True            False            False        2      True   \n",
       "3      False      True            False             True        3      True   \n",
       "4       True      True            False             True        2     False   \n",
       "\n",
       "  FURNISHINGSTATUS  \n",
       "0        furnished  \n",
       "1        furnished  \n",
       "2   semi-furnished  \n",
       "3        furnished  \n",
       "4        furnished  "
      ]
     },
     "execution_count": 5,
     "metadata": {},
     "output_type": "execute_result"
    }
   ],
   "source": [
    "# reading the data\n",
    "train_data =  pd.read_csv('s3://sagemaker-us-east-1-237682134737/input_data/housing_data_v2.csv')\n",
    "\n",
    "train_data.head()"
   ]
  },
  {
   "cell_type": "code",
   "execution_count": 6,
   "metadata": {},
   "outputs": [],
   "source": [
    "train_data =  train_data.drop('Unnamed: 0',axis=1)"
   ]
  },
  {
   "cell_type": "code",
   "execution_count": 7,
   "metadata": {},
   "outputs": [
    {
     "data": {
      "text/html": [
       "<div>\n",
       "<style scoped>\n",
       "    .dataframe tbody tr th:only-of-type {\n",
       "        vertical-align: middle;\n",
       "    }\n",
       "\n",
       "    .dataframe tbody tr th {\n",
       "        vertical-align: top;\n",
       "    }\n",
       "\n",
       "    .dataframe thead th {\n",
       "        text-align: right;\n",
       "    }\n",
       "</style>\n",
       "<table border=\"1\" class=\"dataframe\">\n",
       "  <thead>\n",
       "    <tr style=\"text-align: right;\">\n",
       "      <th></th>\n",
       "      <th>PRICE</th>\n",
       "      <th>AREA</th>\n",
       "      <th>BEDROOMS</th>\n",
       "      <th>BATHROOMS</th>\n",
       "      <th>STORIES</th>\n",
       "      <th>MAINROAD</th>\n",
       "      <th>GUESTROOM</th>\n",
       "      <th>BASEMENT</th>\n",
       "      <th>HOTWATERHEATING</th>\n",
       "      <th>AIRCONDITIONING</th>\n",
       "      <th>PARKING</th>\n",
       "      <th>PREFAREA</th>\n",
       "      <th>FURNISHINGSTATUS</th>\n",
       "    </tr>\n",
       "  </thead>\n",
       "  <tbody>\n",
       "    <tr>\n",
       "      <th>0</th>\n",
       "      <td>13300000</td>\n",
       "      <td>7420</td>\n",
       "      <td>4</td>\n",
       "      <td>2</td>\n",
       "      <td>3</td>\n",
       "      <td>True</td>\n",
       "      <td>False</td>\n",
       "      <td>False</td>\n",
       "      <td>False</td>\n",
       "      <td>True</td>\n",
       "      <td>2</td>\n",
       "      <td>True</td>\n",
       "      <td>furnished</td>\n",
       "    </tr>\n",
       "    <tr>\n",
       "      <th>1</th>\n",
       "      <td>12250000</td>\n",
       "      <td>8960</td>\n",
       "      <td>4</td>\n",
       "      <td>4</td>\n",
       "      <td>4</td>\n",
       "      <td>True</td>\n",
       "      <td>False</td>\n",
       "      <td>False</td>\n",
       "      <td>False</td>\n",
       "      <td>True</td>\n",
       "      <td>3</td>\n",
       "      <td>False</td>\n",
       "      <td>furnished</td>\n",
       "    </tr>\n",
       "    <tr>\n",
       "      <th>2</th>\n",
       "      <td>12250000</td>\n",
       "      <td>9960</td>\n",
       "      <td>3</td>\n",
       "      <td>2</td>\n",
       "      <td>2</td>\n",
       "      <td>True</td>\n",
       "      <td>False</td>\n",
       "      <td>True</td>\n",
       "      <td>False</td>\n",
       "      <td>False</td>\n",
       "      <td>2</td>\n",
       "      <td>True</td>\n",
       "      <td>semi-furnished</td>\n",
       "    </tr>\n",
       "    <tr>\n",
       "      <th>3</th>\n",
       "      <td>12215000</td>\n",
       "      <td>7500</td>\n",
       "      <td>4</td>\n",
       "      <td>2</td>\n",
       "      <td>2</td>\n",
       "      <td>True</td>\n",
       "      <td>False</td>\n",
       "      <td>True</td>\n",
       "      <td>False</td>\n",
       "      <td>True</td>\n",
       "      <td>3</td>\n",
       "      <td>True</td>\n",
       "      <td>furnished</td>\n",
       "    </tr>\n",
       "    <tr>\n",
       "      <th>4</th>\n",
       "      <td>11410000</td>\n",
       "      <td>7420</td>\n",
       "      <td>4</td>\n",
       "      <td>1</td>\n",
       "      <td>2</td>\n",
       "      <td>True</td>\n",
       "      <td>True</td>\n",
       "      <td>True</td>\n",
       "      <td>False</td>\n",
       "      <td>True</td>\n",
       "      <td>2</td>\n",
       "      <td>False</td>\n",
       "      <td>furnished</td>\n",
       "    </tr>\n",
       "  </tbody>\n",
       "</table>\n",
       "</div>"
      ],
      "text/plain": [
       "      PRICE  AREA  BEDROOMS  BATHROOMS  STORIES  MAINROAD  GUESTROOM  \\\n",
       "0  13300000  7420         4          2        3      True      False   \n",
       "1  12250000  8960         4          4        4      True      False   \n",
       "2  12250000  9960         3          2        2      True      False   \n",
       "3  12215000  7500         4          2        2      True      False   \n",
       "4  11410000  7420         4          1        2      True       True   \n",
       "\n",
       "   BASEMENT  HOTWATERHEATING  AIRCONDITIONING  PARKING  PREFAREA  \\\n",
       "0     False            False             True        2      True   \n",
       "1     False            False             True        3     False   \n",
       "2      True            False            False        2      True   \n",
       "3      True            False             True        3      True   \n",
       "4      True            False             True        2     False   \n",
       "\n",
       "  FURNISHINGSTATUS  \n",
       "0        furnished  \n",
       "1        furnished  \n",
       "2   semi-furnished  \n",
       "3        furnished  \n",
       "4        furnished  "
      ]
     },
     "execution_count": 7,
     "metadata": {},
     "output_type": "execute_result"
    }
   ],
   "source": [
    "train_data.head()"
   ]
  },
  {
   "cell_type": "code",
   "execution_count": 6,
   "metadata": {},
   "outputs": [
    {
     "name": "stderr",
     "output_type": "stream",
     "text": [
      "/tmp/ipykernel_208/31309882.py:10: UserWarning: pandas only supports SQLAlchemy connectable (engine/connection) or database string URI or sqlite3 DBAPI2 connection. Other DBAPI2 objects are not tested. Please consider using SQLAlchemy.\n",
      "  train_data = pd.read_sql(fetch_train_query, conn)\n"
     ]
    },
    {
     "name": "stdout",
     "output_type": "stream",
     "text": [
      "Train Data:\n",
      "   ID         FEATURE1         FEATURE2  TARGET\n",
      "0   1  feature1_value1  feature2_value1     0.5\n",
      "1   2  feature1_value2  feature2_value2     1.5\n"
     ]
    },
    {
     "name": "stderr",
     "output_type": "stream",
     "text": [
      "/tmp/ipykernel_208/31309882.py:18: UserWarning: pandas only supports SQLAlchemy connectable (engine/connection) or database string URI or sqlite3 DBAPI2 connection. Other DBAPI2 objects are not tested. Please consider using SQLAlchemy.\n",
      "  test_data = pd.read_sql(fetch_test_query, conn)\n"
     ]
    },
    {
     "name": "stdout",
     "output_type": "stream",
     "text": [
      "Test Data:\n",
      "   ID         FEATURE1         FEATURE2  TARGET\n",
      "0   1  feature1_value1  feature2_value1     0.7\n",
      "1   2  feature1_value2  feature2_value2     1.7\n"
     ]
    },
    {
     "data": {
      "text/plain": [
       "True"
      ]
     },
     "execution_count": 6,
     "metadata": {},
     "output_type": "execute_result"
    }
   ],
   "source": [
    "# SQL command to fetch data from test_table\n",
    "fetch_test_query = \"SELECT * FROM test_table\"\n",
    "\n",
    "# Execute the SQL command and load the data into a pandas DataFrame\n",
    "test_data = pd.read_sql(fetch_test_query, conn)\n",
    "print(\"Test Data:\")\n",
    "print(test_data.head())\n",
    "\n",
    "# Close the cursor\n",
    "cursor.close()"
   ]
  },
  {
   "cell_type": "markdown",
   "metadata": {},
   "source": [
    "# Close the Connection\n",
    "Close the connection to Snowflake using the close() method."
   ]
  },
  {
   "cell_type": "code",
   "execution_count": 7,
   "metadata": {},
   "outputs": [],
   "source": [
    "# Close the Connection\n",
    "\n",
    "# Close the connection to Snowflake\n",
    "conn.close()"
   ]
  },
  {
   "cell_type": "code",
   "execution_count": null,
   "metadata": {},
   "outputs": [],
   "source": []
  }
 ],
 "metadata": {
  "kernelspec": {
   "display_name": "Python 3 (ipykernel)",
   "language": "python",
   "name": "python3"
  },
  "language_info": {
   "codemirror_mode": {
    "name": "ipython",
    "version": 3
   },
   "file_extension": ".py",
   "mimetype": "text/x-python",
   "name": "python",
   "nbconvert_exporter": "python",
   "pygments_lexer": "ipython3",
   "version": "3.11.11"
  }
 },
 "nbformat": 4,
 "nbformat_minor": 2
}
